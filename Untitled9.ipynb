{
 "cells": [
  {
   "cell_type": "code",
   "execution_count": null,
   "id": "2c61bd5c-12fe-4544-8e31-280825bbddb5",
   "metadata": {},
   "outputs": [],
   "source": [
    "# Importar las librerías necesarias\n",
    "import pandas as pd\n",
    "\n",
    "# Cargar los datos desde las rutas absolutas\n",
    "eventos_df = pd.read_csv('/workspace/eventos.csv')\n",
    "aficionados_df = pd.read_csv('/workspace/aficionados.csv')\n",
    "promociones_df = pd.read_csv('/workspace/promociones.csv')\n",
    "\n",
    "# Eliminar filas con valores nulos en los DataFrames\n",
    "eventos_df = eventos_df.dropna()\n",
    "aficionados_df = aficionados_df.dropna()\n",
    "promociones_df = promociones_df.dropna()\n",
    "\n",
    "# Combinar los DataFrames en base a la columna 'id_evento'\n",
    "df_combinado = pd.merge(eventos_df, aficionados_df, on=\"id_evento\", how=\"inner\")\n",
    "df_combinado = pd.merge(df_combinado, promociones_df, on=\"id_evento\", how=\"inner\")\n",
    "\n",
    "# Responder a las preguntas de negocio\n",
    "\n",
    "# ¿Cuál es el evento con mayor asistencia total?\n",
    "evento_max_asistencia = df_combinado.loc[df_combinado['asistentes_totales'].idxmax()]\n",
    "print(\"Evento con mayor asistencia:\")\n",
    "print(evento_max_asistencia[['nombre_evento', 'asistentes_totales']])\n",
    "\n",
    "# ¿Qué rango de edad asiste más frecuentemente a los eventos?\n",
    "bins = [18, 30, 40, 50, 60, 100]  # Ejemplo de rangos de edad\n",
    "labels = ['18-30', '31-40', '41-50', '51-60', '61+']\n",
    "aficionados_df['rango_edad'] = pd.cut(aficionados_df['edad'], bins=bins, labels=labels, right=False)\n",
    "\n",
    "# Contar cuántos aficionados hay en cada grupo\n",
    "rango_edad_mas_frecuente = aficionados_df['rango_edad'].value_counts().idxmax()\n",
    "print(f\"El rango de edad más frecuente es: {rango_edad_mas_frecuente}\")\n",
    "\n",
    "# ¿Qué medio publicitario ha generado mayor impacto en términos de asistencia?\n",
    "df_combinado['impacto_promocion'] = df_combinado['asistentes_totales'] / df_combinado['presupuesto_promocion']\n",
    "\n",
    "# Agrupar por medio publicitario para ver qué medio tuvo el mayor impacto\n",
    "medio_publicitario_max_impacto = df_combinado.groupby('medio_publicitario')['impacto_promocion'].max().idxmax()\n",
    "print(f\"El medio publicitario que generó mayor impacto es: {medio_publicitario_max_impacto}\")\n",
    "\n",
    "# ¿Cuál es la ubicación de residencia que más aficionados aporta a los eventos?\n",
    "ubicacion_max_aficionados = df_combinado.groupby('ubicacion_residencia')['id_aficionado'].count().idxmax()\n",
    "print(f\"La ubicación de residencia que más aficionados aporta es: {ubicacion_max_aficionados}\")\n",
    "\n",
    "# Exportar el DataFrame final con los análisis a un archivo CSV\n",
    "df_combinado.to_csv('/workspace/reporte_eventos.csv', index=False)\n"
   ]
  }
 ],
 "metadata": {
  "kernelspec": {
   "display_name": "Python [conda env:base] *",
   "language": "python",
   "name": "conda-base-py"
  },
  "language_info": {
   "codemirror_mode": {
    "name": "ipython",
    "version": 3
   },
   "file_extension": ".py",
   "mimetype": "text/x-python",
   "name": "python",
   "nbconvert_exporter": "python",
   "pygments_lexer": "ipython3",
   "version": "3.12.7"
  }
 },
 "nbformat": 4,
 "nbformat_minor": 5
}
